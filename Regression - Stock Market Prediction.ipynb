{
 "cells": [
  {
   "cell_type": "markdown",
   "metadata": {},
   "source": [
    "### <font color=\"blue\">Regression - Stock Market Prediction</font>"
   ]
  },
  {
   "cell_type": "markdown",
   "metadata": {},
   "source": [
    "Adam Hereth "
   ]
  },
  {
   "cell_type": "markdown",
   "metadata": {},
   "source": [
    "## Overview and Learning Objectives"
   ]
  },
  {
   "cell_type": "markdown",
   "metadata": {},
   "source": [
    "The ML task in this assignment is regression, predicting the `Close` price of Apple stock index [**AAPL**](https://www.google.com/finance/quote/AAPL:NASDAQ). "
   ]
  },
  {
   "cell_type": "code",
   "execution_count": 1,
   "metadata": {},
   "outputs": [],
   "source": [
    "# Import all necessary modules\n",
    "import numpy as np\n",
    "import matplotlib.pyplot as plt\n",
    "import matplotlib as mpl\n",
    "import matplotlib.dates as mdates\n",
    "import matplotlib.cbook as cbook\n",
    "from sklearn.model_selection import train_test_split\n",
    "from sklearn.metrics import mean_squared_error\n",
    "from sklearn.metrics import mean_absolute_error\n",
    "from sklearn.metrics import mean_squared_error\n",
    "from sklearn.linear_model import LinearRegression\n",
    "from sklearn.model_selection import RandomizedSearchCV\n",
    "from matplotlib.pyplot import figure\n",
    "from sklearn.preprocessing import PolynomialFeatures\n",
    "from sklearn import svm\n",
    "import xgboost as xgb\n",
    "from sklearn.metrics import r2_score\n",
    "from scipy.stats import expon, reciprocal\n",
    "from sklearn.metrics import accuracy_score\n",
    "\n",
    "\n",
    "from math import sqrt\n",
    "%matplotlib inline\n",
    "\n",
    "import seaborn as seaborn\n",
    "\n",
    "import warnings\n",
    "warnings.filterwarnings('ignore')"
   ]
  },
  {
   "cell_type": "markdown",
   "metadata": {},
   "source": [
    "## Part I - Preprocessing"
   ]
  },
  {
   "cell_type": "code",
   "execution_count": 2,
   "metadata": {},
   "outputs": [],
   "source": [
    "#!pip install pandas-datareader"
   ]
  },
  {
   "cell_type": "code",
   "execution_count": 3,
   "metadata": {},
   "outputs": [],
   "source": [
    "import pandas_datareader as pdr"
   ]
  },
  {
   "cell_type": "markdown",
   "metadata": {},
   "source": [
    "Use live data from ya stock market data is [Yahoo Finance](https://finance.yahoo.com/quote/AAPL?p=AAPL)."
   ]
  },
  {
   "cell_type": "code",
   "execution_count": 4,
   "metadata": {},
   "outputs": [
    {
     "data": {
      "text/html": [
       "<div>\n",
       "<style scoped>\n",
       "    .dataframe tbody tr th:only-of-type {\n",
       "        vertical-align: middle;\n",
       "    }\n",
       "\n",
       "    .dataframe tbody tr th {\n",
       "        vertical-align: top;\n",
       "    }\n",
       "\n",
       "    .dataframe thead th {\n",
       "        text-align: right;\n",
       "    }\n",
       "</style>\n",
       "<table border=\"1\" class=\"dataframe\">\n",
       "  <thead>\n",
       "    <tr style=\"text-align: right;\">\n",
       "      <th></th>\n",
       "      <th>High</th>\n",
       "      <th>Low</th>\n",
       "      <th>Open</th>\n",
       "      <th>Close</th>\n",
       "      <th>Volume</th>\n",
       "      <th>Adj Close</th>\n",
       "    </tr>\n",
       "    <tr>\n",
       "      <th>Date</th>\n",
       "      <th></th>\n",
       "      <th></th>\n",
       "      <th></th>\n",
       "      <th></th>\n",
       "      <th></th>\n",
       "      <th></th>\n",
       "    </tr>\n",
       "  </thead>\n",
       "  <tbody>\n",
       "    <tr>\n",
       "      <th>2021-02-12</th>\n",
       "      <td>135.529999</td>\n",
       "      <td>133.690002</td>\n",
       "      <td>134.350006</td>\n",
       "      <td>135.369995</td>\n",
       "      <td>60029300.0</td>\n",
       "      <td>135.369995</td>\n",
       "    </tr>\n",
       "    <tr>\n",
       "      <th>2021-02-16</th>\n",
       "      <td>136.009995</td>\n",
       "      <td>132.789993</td>\n",
       "      <td>135.490005</td>\n",
       "      <td>133.190002</td>\n",
       "      <td>80576300.0</td>\n",
       "      <td>133.190002</td>\n",
       "    </tr>\n",
       "    <tr>\n",
       "      <th>2021-02-17</th>\n",
       "      <td>132.220001</td>\n",
       "      <td>129.470001</td>\n",
       "      <td>131.250000</td>\n",
       "      <td>130.839996</td>\n",
       "      <td>97918500.0</td>\n",
       "      <td>130.839996</td>\n",
       "    </tr>\n",
       "    <tr>\n",
       "      <th>2021-02-18</th>\n",
       "      <td>130.000000</td>\n",
       "      <td>127.410004</td>\n",
       "      <td>129.199997</td>\n",
       "      <td>129.710007</td>\n",
       "      <td>96856700.0</td>\n",
       "      <td>129.710007</td>\n",
       "    </tr>\n",
       "    <tr>\n",
       "      <th>2021-02-19</th>\n",
       "      <td>130.710007</td>\n",
       "      <td>128.800003</td>\n",
       "      <td>130.240005</td>\n",
       "      <td>129.869995</td>\n",
       "      <td>87668800.0</td>\n",
       "      <td>129.869995</td>\n",
       "    </tr>\n",
       "    <tr>\n",
       "      <th>2021-02-22</th>\n",
       "      <td>129.720001</td>\n",
       "      <td>125.599998</td>\n",
       "      <td>128.009995</td>\n",
       "      <td>126.000000</td>\n",
       "      <td>103916400.0</td>\n",
       "      <td>126.000000</td>\n",
       "    </tr>\n",
       "    <tr>\n",
       "      <th>2021-02-23</th>\n",
       "      <td>126.709999</td>\n",
       "      <td>118.389999</td>\n",
       "      <td>123.760002</td>\n",
       "      <td>125.860001</td>\n",
       "      <td>158273000.0</td>\n",
       "      <td>125.860001</td>\n",
       "    </tr>\n",
       "    <tr>\n",
       "      <th>2021-02-24</th>\n",
       "      <td>125.559998</td>\n",
       "      <td>122.230003</td>\n",
       "      <td>124.940002</td>\n",
       "      <td>125.349998</td>\n",
       "      <td>111039900.0</td>\n",
       "      <td>125.349998</td>\n",
       "    </tr>\n",
       "    <tr>\n",
       "      <th>2021-02-25</th>\n",
       "      <td>126.459999</td>\n",
       "      <td>120.540001</td>\n",
       "      <td>124.680000</td>\n",
       "      <td>120.989998</td>\n",
       "      <td>148199500.0</td>\n",
       "      <td>120.989998</td>\n",
       "    </tr>\n",
       "    <tr>\n",
       "      <th>2021-02-26</th>\n",
       "      <td>124.849998</td>\n",
       "      <td>121.199997</td>\n",
       "      <td>122.589996</td>\n",
       "      <td>121.260002</td>\n",
       "      <td>164320000.0</td>\n",
       "      <td>121.260002</td>\n",
       "    </tr>\n",
       "  </tbody>\n",
       "</table>\n",
       "</div>"
      ],
      "text/plain": [
       "                  High         Low        Open       Close       Volume  \\\n",
       "Date                                                                      \n",
       "2021-02-12  135.529999  133.690002  134.350006  135.369995   60029300.0   \n",
       "2021-02-16  136.009995  132.789993  135.490005  133.190002   80576300.0   \n",
       "2021-02-17  132.220001  129.470001  131.250000  130.839996   97918500.0   \n",
       "2021-02-18  130.000000  127.410004  129.199997  129.710007   96856700.0   \n",
       "2021-02-19  130.710007  128.800003  130.240005  129.869995   87668800.0   \n",
       "2021-02-22  129.720001  125.599998  128.009995  126.000000  103916400.0   \n",
       "2021-02-23  126.709999  118.389999  123.760002  125.860001  158273000.0   \n",
       "2021-02-24  125.559998  122.230003  124.940002  125.349998  111039900.0   \n",
       "2021-02-25  126.459999  120.540001  124.680000  120.989998  148199500.0   \n",
       "2021-02-26  124.849998  121.199997  122.589996  121.260002  164320000.0   \n",
       "\n",
       "             Adj Close  \n",
       "Date                    \n",
       "2021-02-12  135.369995  \n",
       "2021-02-16  133.190002  \n",
       "2021-02-17  130.839996  \n",
       "2021-02-18  129.710007  \n",
       "2021-02-19  129.869995  \n",
       "2021-02-22  126.000000  \n",
       "2021-02-23  125.860001  \n",
       "2021-02-24  125.349998  \n",
       "2021-02-25  120.989998  \n",
       "2021-02-26  121.260002  "
      ]
     },
     "execution_count": 4,
     "metadata": {},
     "output_type": "execute_result"
    }
   ],
   "source": [
    "df = pdr.DataReader('AAPL', data_source='yahoo', start='2012-01-01', end='2021-02-26')\n",
    "df.tail(10)"
   ]
  },
  {
   "cell_type": "code",
   "execution_count": 5,
   "metadata": {},
   "outputs": [
    {
     "data": {
      "text/html": [
       "<div>\n",
       "<style scoped>\n",
       "    .dataframe tbody tr th:only-of-type {\n",
       "        vertical-align: middle;\n",
       "    }\n",
       "\n",
       "    .dataframe tbody tr th {\n",
       "        vertical-align: top;\n",
       "    }\n",
       "\n",
       "    .dataframe thead th {\n",
       "        text-align: right;\n",
       "    }\n",
       "</style>\n",
       "<table border=\"1\" class=\"dataframe\">\n",
       "  <thead>\n",
       "    <tr style=\"text-align: right;\">\n",
       "      <th></th>\n",
       "      <th>High</th>\n",
       "      <th>Low</th>\n",
       "      <th>Open</th>\n",
       "      <th>Close</th>\n",
       "      <th>Volume</th>\n",
       "      <th>Adj Close</th>\n",
       "    </tr>\n",
       "  </thead>\n",
       "  <tbody>\n",
       "    <tr>\n",
       "      <th>count</th>\n",
       "      <td>2303.000000</td>\n",
       "      <td>2303.000000</td>\n",
       "      <td>2303.000000</td>\n",
       "      <td>2303.000000</td>\n",
       "      <td>2.303000e+03</td>\n",
       "      <td>2303.000000</td>\n",
       "    </tr>\n",
       "    <tr>\n",
       "      <th>mean</th>\n",
       "      <td>40.768029</td>\n",
       "      <td>39.915350</td>\n",
       "      <td>40.345086</td>\n",
       "      <td>40.357003</td>\n",
       "      <td>2.269361e+08</td>\n",
       "      <td>38.642441</td>\n",
       "    </tr>\n",
       "    <tr>\n",
       "      <th>std</th>\n",
       "      <td>27.399500</td>\n",
       "      <td>26.611593</td>\n",
       "      <td>27.029006</td>\n",
       "      <td>27.021137</td>\n",
       "      <td>1.790992e+08</td>\n",
       "      <td>27.631704</td>\n",
       "    </tr>\n",
       "    <tr>\n",
       "      <th>min</th>\n",
       "      <td>14.271429</td>\n",
       "      <td>13.753571</td>\n",
       "      <td>13.856071</td>\n",
       "      <td>13.947500</td>\n",
       "      <td>4.544800e+07</td>\n",
       "      <td>12.191197</td>\n",
       "    </tr>\n",
       "    <tr>\n",
       "      <th>25%</th>\n",
       "      <td>23.092501</td>\n",
       "      <td>22.705357</td>\n",
       "      <td>22.855893</td>\n",
       "      <td>22.805893</td>\n",
       "      <td>1.093298e+08</td>\n",
       "      <td>20.391053</td>\n",
       "    </tr>\n",
       "    <tr>\n",
       "      <th>50%</th>\n",
       "      <td>30.525000</td>\n",
       "      <td>30.045000</td>\n",
       "      <td>30.247499</td>\n",
       "      <td>30.295000</td>\n",
       "      <td>1.641152e+08</td>\n",
       "      <td>28.159733</td>\n",
       "    </tr>\n",
       "    <tr>\n",
       "      <th>75%</th>\n",
       "      <td>47.552500</td>\n",
       "      <td>46.763750</td>\n",
       "      <td>47.190001</td>\n",
       "      <td>47.182501</td>\n",
       "      <td>2.791866e+08</td>\n",
       "      <td>46.051743</td>\n",
       "    </tr>\n",
       "    <tr>\n",
       "      <th>max</th>\n",
       "      <td>145.089996</td>\n",
       "      <td>141.369995</td>\n",
       "      <td>143.600006</td>\n",
       "      <td>143.160004</td>\n",
       "      <td>1.506120e+09</td>\n",
       "      <td>142.946396</td>\n",
       "    </tr>\n",
       "  </tbody>\n",
       "</table>\n",
       "</div>"
      ],
      "text/plain": [
       "              High          Low         Open        Close        Volume  \\\n",
       "count  2303.000000  2303.000000  2303.000000  2303.000000  2.303000e+03   \n",
       "mean     40.768029    39.915350    40.345086    40.357003  2.269361e+08   \n",
       "std      27.399500    26.611593    27.029006    27.021137  1.790992e+08   \n",
       "min      14.271429    13.753571    13.856071    13.947500  4.544800e+07   \n",
       "25%      23.092501    22.705357    22.855893    22.805893  1.093298e+08   \n",
       "50%      30.525000    30.045000    30.247499    30.295000  1.641152e+08   \n",
       "75%      47.552500    46.763750    47.190001    47.182501  2.791866e+08   \n",
       "max     145.089996   141.369995   143.600006   143.160004  1.506120e+09   \n",
       "\n",
       "         Adj Close  \n",
       "count  2303.000000  \n",
       "mean     38.642441  \n",
       "std      27.631704  \n",
       "min      12.191197  \n",
       "25%      20.391053  \n",
       "50%      28.159733  \n",
       "75%      46.051743  \n",
       "max     142.946396  "
      ]
     },
     "execution_count": 5,
     "metadata": {},
     "output_type": "execute_result"
    }
   ],
   "source": [
    "df.reset_index(inplace=True)\n",
    "df.describe()"
   ]
  },
  {
   "cell_type": "code",
   "execution_count": 6,
   "metadata": {
    "scrolled": true
   },
   "outputs": [
    {
     "data": {
      "text/html": [
       "<div>\n",
       "<style scoped>\n",
       "    .dataframe tbody tr th:only-of-type {\n",
       "        vertical-align: middle;\n",
       "    }\n",
       "\n",
       "    .dataframe tbody tr th {\n",
       "        vertical-align: top;\n",
       "    }\n",
       "\n",
       "    .dataframe thead th {\n",
       "        text-align: right;\n",
       "    }\n",
       "</style>\n",
       "<table border=\"1\" class=\"dataframe\">\n",
       "  <thead>\n",
       "    <tr style=\"text-align: right;\">\n",
       "      <th></th>\n",
       "      <th>High</th>\n",
       "      <th>Low</th>\n",
       "      <th>Open</th>\n",
       "      <th>Close</th>\n",
       "      <th>Volume</th>\n",
       "      <th>Adj Close</th>\n",
       "    </tr>\n",
       "  </thead>\n",
       "  <tbody>\n",
       "    <tr>\n",
       "      <th>High</th>\n",
       "      <td>1.000000</td>\n",
       "      <td>0.999685</td>\n",
       "      <td>0.999825</td>\n",
       "      <td>0.999780</td>\n",
       "      <td>-0.386792</td>\n",
       "      <td>0.999636</td>\n",
       "    </tr>\n",
       "    <tr>\n",
       "      <th>Low</th>\n",
       "      <td>0.999685</td>\n",
       "      <td>1.000000</td>\n",
       "      <td>0.999748</td>\n",
       "      <td>0.999787</td>\n",
       "      <td>-0.395065</td>\n",
       "      <td>0.999657</td>\n",
       "    </tr>\n",
       "    <tr>\n",
       "      <th>Open</th>\n",
       "      <td>0.999825</td>\n",
       "      <td>0.999748</td>\n",
       "      <td>1.000000</td>\n",
       "      <td>0.999593</td>\n",
       "      <td>-0.389839</td>\n",
       "      <td>0.999440</td>\n",
       "    </tr>\n",
       "    <tr>\n",
       "      <th>Close</th>\n",
       "      <td>0.999780</td>\n",
       "      <td>0.999787</td>\n",
       "      <td>0.999593</td>\n",
       "      <td>1.000000</td>\n",
       "      <td>-0.391277</td>\n",
       "      <td>0.999859</td>\n",
       "    </tr>\n",
       "    <tr>\n",
       "      <th>Volume</th>\n",
       "      <td>-0.386792</td>\n",
       "      <td>-0.395065</td>\n",
       "      <td>-0.389839</td>\n",
       "      <td>-0.391277</td>\n",
       "      <td>1.000000</td>\n",
       "      <td>-0.396361</td>\n",
       "    </tr>\n",
       "    <tr>\n",
       "      <th>Adj Close</th>\n",
       "      <td>0.999636</td>\n",
       "      <td>0.999657</td>\n",
       "      <td>0.999440</td>\n",
       "      <td>0.999859</td>\n",
       "      <td>-0.396361</td>\n",
       "      <td>1.000000</td>\n",
       "    </tr>\n",
       "  </tbody>\n",
       "</table>\n",
       "</div>"
      ],
      "text/plain": [
       "               High       Low      Open     Close    Volume  Adj Close\n",
       "High       1.000000  0.999685  0.999825  0.999780 -0.386792   0.999636\n",
       "Low        0.999685  1.000000  0.999748  0.999787 -0.395065   0.999657\n",
       "Open       0.999825  0.999748  1.000000  0.999593 -0.389839   0.999440\n",
       "Close      0.999780  0.999787  0.999593  1.000000 -0.391277   0.999859\n",
       "Volume    -0.386792 -0.395065 -0.389839 -0.391277  1.000000  -0.396361\n",
       "Adj Close  0.999636  0.999657  0.999440  0.999859 -0.396361   1.000000"
      ]
     },
     "execution_count": 6,
     "metadata": {},
     "output_type": "execute_result"
    }
   ],
   "source": [
    "corr = df.corr(method='pearson')\n",
    "corr"
   ]
  },
  {
   "cell_type": "markdown",
   "metadata": {},
   "source": [
    "> You can also visualize the correlations using [seaborn](https://seaborn.pydata.org/installing.html) heatmaps. You should install it if you don't have it."
   ]
  },
  {
   "cell_type": "code",
   "execution_count": 7,
   "metadata": {},
   "outputs": [
    {
     "data": {
      "text/plain": [
       "<matplotlib.axes._subplots.AxesSubplot at 0x2aa21463730>"
      ]
     },
     "execution_count": 7,
     "metadata": {},
     "output_type": "execute_result"
    },
    {
     "data": {
      "image/png": "[encoded data removed]",
      "text/plain": [
       "<Figure size 432x288 with 2 Axes>"
      ]
     },
     "metadata": {
      "needs_background": "light"
     },
     "output_type": "display_data"
    }
   ],
   "source": [
    "seaborn.heatmap(corr, xticklabels=corr.columns, yticklabels=corr.columns, cmap='RdBu_r', annot=True, linewidth=0.5)"
   ]
  },
  {
   "cell_type": "markdown",
   "metadata": {},
   "source": [
    "> Next, drop `Volume` and `Adj Close` as they are not useful for our regression analysis."
   ]
  },
  {
   "cell_type": "code",
   "execution_count": 8,
   "metadata": {},
   "outputs": [
    {
     "data": {
      "text/html": [
       "<div>\n",
       "<style scoped>\n",
       "    .dataframe tbody tr th:only-of-type {\n",
       "        vertical-align: middle;\n",
       "    }\n",
       "\n",
       "    .dataframe tbody tr th {\n",
       "        vertical-align: top;\n",
       "    }\n",
       "\n",
       "    .dataframe thead th {\n",
       "        text-align: right;\n",
       "    }\n",
       "</style>\n",
       "<table border=\"1\" class=\"dataframe\">\n",
       "  <thead>\n",
       "    <tr style=\"text-align: right;\">\n",
       "      <th></th>\n",
       "      <th>Date</th>\n",
       "      <th>High</th>\n",
       "      <th>Low</th>\n",
       "      <th>Open</th>\n",
       "      <th>Close</th>\n",
       "    </tr>\n",
       "  </thead>\n",
       "  <tbody>\n",
       "    <tr>\n",
       "      <th>0</th>\n",
       "      <td>2012-01-03</td>\n",
       "      <td>14.732143</td>\n",
       "      <td>14.607143</td>\n",
       "      <td>14.621429</td>\n",
       "      <td>14.686786</td>\n",
       "    </tr>\n",
       "    <tr>\n",
       "      <th>1</th>\n",
       "      <td>2012-01-04</td>\n",
       "      <td>14.810000</td>\n",
       "      <td>14.617143</td>\n",
       "      <td>14.642857</td>\n",
       "      <td>14.765714</td>\n",
       "    </tr>\n",
       "    <tr>\n",
       "      <th>2</th>\n",
       "      <td>2012-01-05</td>\n",
       "      <td>14.948214</td>\n",
       "      <td>14.738214</td>\n",
       "      <td>14.819643</td>\n",
       "      <td>14.929643</td>\n",
       "    </tr>\n",
       "    <tr>\n",
       "      <th>3</th>\n",
       "      <td>2012-01-06</td>\n",
       "      <td>15.098214</td>\n",
       "      <td>14.972143</td>\n",
       "      <td>14.991786</td>\n",
       "      <td>15.085714</td>\n",
       "    </tr>\n",
       "    <tr>\n",
       "      <th>4</th>\n",
       "      <td>2012-01-09</td>\n",
       "      <td>15.276786</td>\n",
       "      <td>15.048214</td>\n",
       "      <td>15.196429</td>\n",
       "      <td>15.061786</td>\n",
       "    </tr>\n",
       "    <tr>\n",
       "      <th>5</th>\n",
       "      <td>2012-01-10</td>\n",
       "      <td>15.214286</td>\n",
       "      <td>15.053571</td>\n",
       "      <td>15.211071</td>\n",
       "      <td>15.115714</td>\n",
       "    </tr>\n",
       "    <tr>\n",
       "      <th>6</th>\n",
       "      <td>2012-01-11</td>\n",
       "      <td>15.101786</td>\n",
       "      <td>14.975357</td>\n",
       "      <td>15.095714</td>\n",
       "      <td>15.091071</td>\n",
       "    </tr>\n",
       "    <tr>\n",
       "      <th>7</th>\n",
       "      <td>2012-01-12</td>\n",
       "      <td>15.103571</td>\n",
       "      <td>14.955357</td>\n",
       "      <td>15.081429</td>\n",
       "      <td>15.049643</td>\n",
       "    </tr>\n",
       "    <tr>\n",
       "      <th>8</th>\n",
       "      <td>2012-01-13</td>\n",
       "      <td>15.016071</td>\n",
       "      <td>14.952143</td>\n",
       "      <td>14.989286</td>\n",
       "      <td>14.993214</td>\n",
       "    </tr>\n",
       "    <tr>\n",
       "      <th>9</th>\n",
       "      <td>2012-01-17</td>\n",
       "      <td>15.213929</td>\n",
       "      <td>15.105714</td>\n",
       "      <td>15.150000</td>\n",
       "      <td>15.167857</td>\n",
       "    </tr>\n",
       "  </tbody>\n",
       "</table>\n",
       "</div>"
      ],
      "text/plain": [
       "        Date       High        Low       Open      Close\n",
       "0 2012-01-03  14.732143  14.607143  14.621429  14.686786\n",
       "1 2012-01-04  14.810000  14.617143  14.642857  14.765714\n",
       "2 2012-01-05  14.948214  14.738214  14.819643  14.929643\n",
       "3 2012-01-06  15.098214  14.972143  14.991786  15.085714\n",
       "4 2012-01-09  15.276786  15.048214  15.196429  15.061786\n",
       "5 2012-01-10  15.214286  15.053571  15.211071  15.115714\n",
       "6 2012-01-11  15.101786  14.975357  15.095714  15.091071\n",
       "7 2012-01-12  15.103571  14.955357  15.081429  15.049643\n",
       "8 2012-01-13  15.016071  14.952143  14.989286  14.993214\n",
       "9 2012-01-17  15.213929  15.105714  15.150000  15.167857"
      ]
     },
     "execution_count": 8,
     "metadata": {},
     "output_type": "execute_result"
    }
   ],
   "source": [
    "# Prepare the dataframe\n",
    "df = df.drop(columns=['Volume','Adj Close'])\n",
    "df.head(10)"
   ]
  },
  {
   "cell_type": "code",
   "execution_count": 9,
   "metadata": {
    "scrolled": true
   },
   "outputs": [
    {
     "data": {
      "text/plain": [
       "Text(0, 0.5, 'Close Price US($)')"
      ]
     },
     "execution_count": 9,
     "metadata": {},
     "output_type": "execute_result"
    },
    {
     "data": {
      "image/png": "[encoded data removed]",
      "text/plain": [
       "<Figure size 1152x576 with 1 Axes>"
      ]
     },
     "metadata": {
      "needs_background": "light"
     },
     "output_type": "display_data"
    }
   ],
   "source": [
    "# Generate the following plot.\n",
    "df = pdr.DataReader('AAPL', data_source='yahoo', start='2012-01-01', end='2021-02-26')\n",
    "plt.figure(figsize=(16,8))\n",
    "plt.style.use('seaborn')\n",
    "plt.plot(df.index, df['Close'], color = 'g', )\n",
    "plt.title('Apple Stock Closing Price History 2012-2021', fontsize = 18)\n",
    "plt.xlabel('Date', fontsize= 16)\n",
    "plt.ylabel('Close Price US($)', fontsize = 16)"
   ]
  },
  {
   "cell_type": "markdown",
   "metadata": {},
   "source": [
    "> Next, decompose `Date` to `Year`, `Month`, and `Day`."
   ]
  },
  {
   "cell_type": "code",
   "execution_count": 10,
   "metadata": {},
   "outputs": [],
   "source": [
    "df['Year'] = df.index.year\n",
    "df['Month'] = df.index.month\n",
    "df['Day'] = df.index.day"
   ]
  },
  {
   "cell_type": "markdown",
   "metadata": {},
   "source": [
    "> Choose the following columns from `df`"
   ]
  },
  {
   "cell_type": "code",
   "execution_count": 11,
   "metadata": {},
   "outputs": [
    {
     "data": {
      "text/html": [
       "<div>\n",
       "<style scoped>\n",
       "    .dataframe tbody tr th:only-of-type {\n",
       "        vertical-align: middle;\n",
       "    }\n",
       "\n",
       "    .dataframe tbody tr th {\n",
       "        vertical-align: top;\n",
       "    }\n",
       "\n",
       "    .dataframe thead th {\n",
       "        text-align: right;\n",
       "    }\n",
       "</style>\n",
       "<table border=\"1\" class=\"dataframe\">\n",
       "  <thead>\n",
       "    <tr style=\"text-align: right;\">\n",
       "      <th></th>\n",
       "      <th>Day</th>\n",
       "      <th>Month</th>\n",
       "      <th>Year</th>\n",
       "      <th>High</th>\n",
       "      <th>Open</th>\n",
       "      <th>Low</th>\n",
       "      <th>Close</th>\n",
       "    </tr>\n",
       "  </thead>\n",
       "  <tbody>\n",
       "    <tr>\n",
       "      <th>2293</th>\n",
       "      <td>12</td>\n",
       "      <td>2</td>\n",
       "      <td>2021</td>\n",
       "      <td>135.529999</td>\n",
       "      <td>134.350006</td>\n",
       "      <td>133.690002</td>\n",
       "      <td>135.369995</td>\n",
       "    </tr>\n",
       "    <tr>\n",
       "      <th>2294</th>\n",
       "      <td>16</td>\n",
       "      <td>2</td>\n",
       "      <td>2021</td>\n",
       "      <td>136.009995</td>\n",
       "      <td>135.490005</td>\n",
       "      <td>132.789993</td>\n",
       "      <td>133.190002</td>\n",
       "    </tr>\n",
       "    <tr>\n",
       "      <th>2295</th>\n",
       "      <td>17</td>\n",
       "      <td>2</td>\n",
       "      <td>2021</td>\n",
       "      <td>132.220001</td>\n",
       "      <td>131.250000</td>\n",
       "      <td>129.470001</td>\n",
       "      <td>130.839996</td>\n",
       "    </tr>\n",
       "    <tr>\n",
       "      <th>2296</th>\n",
       "      <td>18</td>\n",
       "      <td>2</td>\n",
       "      <td>2021</td>\n",
       "      <td>130.000000</td>\n",
       "      <td>129.199997</td>\n",
       "      <td>127.410004</td>\n",
       "      <td>129.710007</td>\n",
       "    </tr>\n",
       "    <tr>\n",
       "      <th>2297</th>\n",
       "      <td>19</td>\n",
       "      <td>2</td>\n",
       "      <td>2021</td>\n",
       "      <td>130.710007</td>\n",
       "      <td>130.240005</td>\n",
       "      <td>128.800003</td>\n",
       "      <td>129.869995</td>\n",
       "    </tr>\n",
       "    <tr>\n",
       "      <th>2298</th>\n",
       "      <td>22</td>\n",
       "      <td>2</td>\n",
       "      <td>2021</td>\n",
       "      <td>129.720001</td>\n",
       "      <td>128.009995</td>\n",
       "      <td>125.599998</td>\n",
       "      <td>126.000000</td>\n",
       "    </tr>\n",
       "    <tr>\n",
       "      <th>2299</th>\n",
       "      <td>23</td>\n",
       "      <td>2</td>\n",
       "      <td>2021</td>\n",
       "      <td>126.709999</td>\n",
       "      <td>123.760002</td>\n",
       "      <td>118.389999</td>\n",
       "      <td>125.860001</td>\n",
       "    </tr>\n",
       "    <tr>\n",
       "      <th>2300</th>\n",
       "      <td>24</td>\n",
       "      <td>2</td>\n",
       "      <td>2021</td>\n",
       "      <td>125.559998</td>\n",
       "      <td>124.940002</td>\n",
       "      <td>122.230003</td>\n",
       "      <td>125.349998</td>\n",
       "    </tr>\n",
       "    <tr>\n",
       "      <th>2301</th>\n",
       "      <td>25</td>\n",
       "      <td>2</td>\n",
       "      <td>2021</td>\n",
       "      <td>126.459999</td>\n",
       "      <td>124.680000</td>\n",
       "      <td>120.540001</td>\n",
       "      <td>120.989998</td>\n",
       "    </tr>\n",
       "    <tr>\n",
       "      <th>2302</th>\n",
       "      <td>26</td>\n",
       "      <td>2</td>\n",
       "      <td>2021</td>\n",
       "      <td>124.849998</td>\n",
       "      <td>122.589996</td>\n",
       "      <td>121.199997</td>\n",
       "      <td>121.260002</td>\n",
       "    </tr>\n",
       "  </tbody>\n",
       "</table>\n",
       "</div>"
      ],
      "text/plain": [
       "      Day  Month  Year        High        Open         Low       Close\n",
       "2293   12      2  2021  135.529999  134.350006  133.690002  135.369995\n",
       "2294   16      2  2021  136.009995  135.490005  132.789993  133.190002\n",
       "2295   17      2  2021  132.220001  131.250000  129.470001  130.839996\n",
       "2296   18      2  2021  130.000000  129.199997  127.410004  129.710007\n",
       "2297   19      2  2021  130.710007  130.240005  128.800003  129.869995\n",
       "2298   22      2  2021  129.720001  128.009995  125.599998  126.000000\n",
       "2299   23      2  2021  126.709999  123.760002  118.389999  125.860001\n",
       "2300   24      2  2021  125.559998  124.940002  122.230003  125.349998\n",
       "2301   25      2  2021  126.459999  124.680000  120.540001  120.989998\n",
       "2302   26      2  2021  124.849998  122.589996  121.199997  121.260002"
      ]
     },
     "execution_count": 11,
     "metadata": {},
     "output_type": "execute_result"
    }
   ],
   "source": [
    "aapl = df.reset_index(drop = True).drop(columns = ['Volume','Adj Close']).filter(items = ('Day','Month','Year','High','Open','Low','Close'))\n",
    "aapl.tail(10)"
   ]
  },
  {
   "cell_type": "markdown",
   "metadata": {},
   "source": [
    "> Separating the dependent variables (features) from the independent variable (target column) which is `Close`. So the X should contain all columns in `aapl` except `Close` and y should include `Close` only."
   ]
  },
  {
   "cell_type": "code",
   "execution_count": 12,
   "metadata": {},
   "outputs": [],
   "source": [
    "# Separate features from the target\n",
    "X = aapl.drop(columns = ['Close'])\n",
    "y = aapl['Close']"
   ]
  },
  {
   "cell_type": "code",
   "execution_count": 13,
   "metadata": {},
   "outputs": [
    {
     "name": "stdout",
     "output_type": "stream",
     "text": [
      "(2303, 6)\n",
      "(2303,)\n"
     ]
    }
   ],
   "source": [
    "print(X.shape)\n",
    "print(y.shape)"
   ]
  },
  {
   "cell_type": "markdown",
   "metadata": {},
   "source": [
    "> Double-check and make sure that `X` and `y` do NOT have anything in common; otherwise the data is wrong"
   ]
  },
  {
   "cell_type": "code",
   "execution_count": 14,
   "metadata": {},
   "outputs": [
    {
     "data": {
      "text/html": [
       "<div>\n",
       "<style scoped>\n",
       "    .dataframe tbody tr th:only-of-type {\n",
       "        vertical-align: middle;\n",
       "    }\n",
       "\n",
       "    .dataframe tbody tr th {\n",
       "        vertical-align: top;\n",
       "    }\n",
       "\n",
       "    .dataframe thead th {\n",
       "        text-align: right;\n",
       "    }\n",
       "</style>\n",
       "<table border=\"1\" class=\"dataframe\">\n",
       "  <thead>\n",
       "    <tr style=\"text-align: right;\">\n",
       "      <th></th>\n",
       "      <th>Day</th>\n",
       "      <th>Month</th>\n",
       "      <th>Year</th>\n",
       "      <th>High</th>\n",
       "      <th>Open</th>\n",
       "      <th>Low</th>\n",
       "    </tr>\n",
       "  </thead>\n",
       "  <tbody>\n",
       "    <tr>\n",
       "      <th>0</th>\n",
       "      <td>3</td>\n",
       "      <td>1</td>\n",
       "      <td>2012</td>\n",
       "      <td>14.732143</td>\n",
       "      <td>14.621429</td>\n",
       "      <td>14.607143</td>\n",
       "    </tr>\n",
       "    <tr>\n",
       "      <th>1</th>\n",
       "      <td>4</td>\n",
       "      <td>1</td>\n",
       "      <td>2012</td>\n",
       "      <td>14.810000</td>\n",
       "      <td>14.642857</td>\n",
       "      <td>14.617143</td>\n",
       "    </tr>\n",
       "    <tr>\n",
       "      <th>2</th>\n",
       "      <td>5</td>\n",
       "      <td>1</td>\n",
       "      <td>2012</td>\n",
       "      <td>14.948214</td>\n",
       "      <td>14.819643</td>\n",
       "      <td>14.738214</td>\n",
       "    </tr>\n",
       "    <tr>\n",
       "      <th>3</th>\n",
       "      <td>6</td>\n",
       "      <td>1</td>\n",
       "      <td>2012</td>\n",
       "      <td>15.098214</td>\n",
       "      <td>14.991786</td>\n",
       "      <td>14.972143</td>\n",
       "    </tr>\n",
       "    <tr>\n",
       "      <th>4</th>\n",
       "      <td>9</td>\n",
       "      <td>1</td>\n",
       "      <td>2012</td>\n",
       "      <td>15.276786</td>\n",
       "      <td>15.196429</td>\n",
       "      <td>15.048214</td>\n",
       "    </tr>\n",
       "    <tr>\n",
       "      <th>...</th>\n",
       "      <td>...</td>\n",
       "      <td>...</td>\n",
       "      <td>...</td>\n",
       "      <td>...</td>\n",
       "      <td>...</td>\n",
       "      <td>...</td>\n",
       "    </tr>\n",
       "    <tr>\n",
       "      <th>2298</th>\n",
       "      <td>22</td>\n",
       "      <td>2</td>\n",
       "      <td>2021</td>\n",
       "      <td>129.720001</td>\n",
       "      <td>128.009995</td>\n",
       "      <td>125.599998</td>\n",
       "    </tr>\n",
       "    <tr>\n",
       "      <th>2299</th>\n",
       "      <td>23</td>\n",
       "      <td>2</td>\n",
       "      <td>2021</td>\n",
       "      <td>126.709999</td>\n",
       "      <td>123.760002</td>\n",
       "      <td>118.389999</td>\n",
       "    </tr>\n",
       "    <tr>\n",
       "      <th>2300</th>\n",
       "      <td>24</td>\n",
       "      <td>2</td>\n",
       "      <td>2021</td>\n",
       "      <td>125.559998</td>\n",
       "      <td>124.940002</td>\n",
       "      <td>122.230003</td>\n",
       "    </tr>\n",
       "    <tr>\n",
       "      <th>2301</th>\n",
       "      <td>25</td>\n",
       "      <td>2</td>\n",
       "      <td>2021</td>\n",
       "      <td>126.459999</td>\n",
       "      <td>124.680000</td>\n",
       "      <td>120.540001</td>\n",
       "    </tr>\n",
       "    <tr>\n",
       "      <th>2302</th>\n",
       "      <td>26</td>\n",
       "      <td>2</td>\n",
       "      <td>2021</td>\n",
       "      <td>124.849998</td>\n",
       "      <td>122.589996</td>\n",
       "      <td>121.199997</td>\n",
       "    </tr>\n",
       "  </tbody>\n",
       "</table>\n",
       "<p>2303 rows × 6 columns</p>\n",
       "</div>"
      ],
      "text/plain": [
       "      Day  Month  Year        High        Open         Low\n",
       "0       3      1  2012   14.732143   14.621429   14.607143\n",
       "1       4      1  2012   14.810000   14.642857   14.617143\n",
       "2       5      1  2012   14.948214   14.819643   14.738214\n",
       "3       6      1  2012   15.098214   14.991786   14.972143\n",
       "4       9      1  2012   15.276786   15.196429   15.048214\n",
       "...   ...    ...   ...         ...         ...         ...\n",
       "2298   22      2  2021  129.720001  128.009995  125.599998\n",
       "2299   23      2  2021  126.709999  123.760002  118.389999\n",
       "2300   24      2  2021  125.559998  124.940002  122.230003\n",
       "2301   25      2  2021  126.459999  124.680000  120.540001\n",
       "2302   26      2  2021  124.849998  122.589996  121.199997\n",
       "\n",
       "[2303 rows x 6 columns]"
      ]
     },
     "execution_count": 14,
     "metadata": {},
     "output_type": "execute_result"
    }
   ],
   "source": [
    "X"
   ]
  },
  {
   "cell_type": "code",
   "execution_count": 15,
   "metadata": {},
   "outputs": [
    {
     "data": {
      "text/plain": [
       "0        14.686786\n",
       "1        14.765714\n",
       "2        14.929643\n",
       "3        15.085714\n",
       "4        15.061786\n",
       "           ...    \n",
       "2298    126.000000\n",
       "2299    125.860001\n",
       "2300    125.349998\n",
       "2301    120.989998\n",
       "2302    121.260002\n",
       "Name: Close, Length: 2303, dtype: float64"
      ]
     },
     "execution_count": 15,
     "metadata": {},
     "output_type": "execute_result"
    }
   ],
   "source": [
    "y"
   ]
  },
  {
   "cell_type": "markdown",
   "metadata": {},
   "source": [
    "As mentioned in the lectures, the data for supervised learning (both classification and regression) is split into training set and test set. We usually do this by importing [`train_test_split()`](https://scikit-learn.org/stable/modules/generated/sklearn.model_selection.train_test_split.html) module from scikit-learn.\n",
    "Split the data by a `test_size` ratio of 0.25"
   ]
  },
  {
   "cell_type": "code",
   "execution_count": 16,
   "metadata": {},
   "outputs": [],
   "source": [
    "# Partition the data into train and test\n",
    "X_train, X_test, y_train, y_test = train_test_split(X,y,test_size = 0.25)"
   ]
  },
  {
   "cell_type": "code",
   "execution_count": 17,
   "metadata": {},
   "outputs": [
    {
     "name": "stdout",
     "output_type": "stream",
     "text": [
      "(1727, 6)\n",
      "(576, 6)\n",
      "(1727,)\n",
      "(576,)\n"
     ]
    }
   ],
   "source": [
    "print(X_train.shape)\n",
    "print(X_test.shape)\n",
    "print(y_train.shape)\n",
    "print(y_test.shape)"
   ]
  },
  {
   "cell_type": "markdown",
   "metadata": {},
   "source": [
    "## Part-II Linear Regression with Closed Form Solution (Least Squares)"
   ]
  },
  {
   "cell_type": "markdown",
   "metadata": {},
   "source": [
    "Now that the data is prepared, training and testing on the regression models can be done.\n",
    "\n",
    "First, I am going to use the Least Squares method using the normal equation. This allows me to determine the best way of fitting a curve on top of a chart of data points. Since the data is following a scatter plot, it will be easier to interpret, and is associated with regression tasks. "
   ]
  },
  {
   "cell_type": "code",
   "execution_count": 18,
   "metadata": {},
   "outputs": [],
   "source": [
    "# Compute theta_best using normal equation\n",
    "theta_best = np.linalg.inv(X_train.T.dot(X_train)).dot(X_train.T).dot(y_train)"
   ]
  },
  {
   "cell_type": "code",
   "execution_count": 19,
   "metadata": {},
   "outputs": [
    {
     "data": {
      "text/plain": [
       "(6,)"
      ]
     },
     "execution_count": 19,
     "metadata": {},
     "output_type": "execute_result"
    }
   ],
   "source": [
    "theta_best.shape"
   ]
  },
  {
   "cell_type": "code",
   "execution_count": 20,
   "metadata": {},
   "outputs": [
    {
     "data": {
      "text/plain": [
       "1369     36.463517\n",
       "1120     24.292622\n",
       "2084     71.055047\n",
       "989      29.483051\n",
       "330      15.350927\n",
       "           ...    \n",
       "169      24.021354\n",
       "2228    118.313268\n",
       "1932     53.324075\n",
       "2022     78.548678\n",
       "858      32.586817\n",
       "Length: 576, dtype: float64"
      ]
     },
     "execution_count": 20,
     "metadata": {},
     "output_type": "execute_result"
    }
   ],
   "source": [
    "# Make predictions on X_test using theta_best\n",
    "y_pred_ls = X_test.dot(theta_best)\n",
    "y_pred_ls"
   ]
  },
  {
   "cell_type": "markdown",
   "metadata": {},
   "source": [
    "#### Regression Model Evaluation: MSE, RMSE, MAE"
   ]
  },
  {
   "cell_type": "markdown",
   "metadata": {},
   "source": [
    "Next is evaluating the regression model.\n",
    "\n",
    "The three forms of the regression performance measures are MSE, RMSE, and MAE:\n",
    "\n",
    "$\n",
    "\\text{MSE}(\\mathbf{X}, h_{\\boldsymbol{\\theta}}) = \\dfrac{1}{m} \\sum\\limits_{i=1}^{m}{(\\boldsymbol{\\theta}^T \\mathbf{x}^{(i)} - y^{(i)})^2}\n",
    "$\n",
    "\n",
    "\n",
    "$\n",
    "\\text{RMSE}(\\mathbf{X}, h_{\\boldsymbol{\\theta}}) = \\sqrt{\\dfrac{1}{m} \\sum\\limits_{i=1}^{m}{(\\boldsymbol{\\theta}^T \\mathbf{x}^{(i)} - y^{(i)})^2}}\n",
    "$\n",
    "\n",
    "$\n",
    "\\text{MAE}(\\mathbf{X}, h_{\\boldsymbol{\\theta}}) = \\frac{1}{m}\\sum\\limits_{i=1}^{m}\\left| \\boldsymbol{\\theta}^T \\mathbf{x}^{(i)} - y^{(i)} \\right|\n",
    "$\n",
    "\n",
    "where $\\boldsymbol{\\theta}^T \\mathbf{x}^{(i)}$ is your prediction versus $y^{(i)}$ target values, and $m$ is number of instances."
   ]
  },
  {
   "cell_type": "code",
   "execution_count": 21,
   "metadata": {},
   "outputs": [],
   "source": [
    "def mse(y_true, y_pred):\n",
    "    return np.sum(np.square(np.subtract(y_pred, y_true)))/576"
   ]
  },
  {
   "cell_type": "code",
   "execution_count": 22,
   "metadata": {},
   "outputs": [],
   "source": [
    "def rmse(y_true, y_pred):\n",
    "    return np.sqrt(np.sum(np.square(np.subtract(y_pred, y_true)))/576)"
   ]
  },
  {
   "cell_type": "code",
   "execution_count": 23,
   "metadata": {},
   "outputs": [],
   "source": [
    "def mae(y_true, y_pred):\n",
    "    return np.sum(np.absolute(np.subtract(y_pred, y_true)))/576"
   ]
  },
  {
   "cell_type": "markdown",
   "metadata": {},
   "source": [
    "> Now compute the `mse`, `rmse`, and `mae` for the Least Squares regression model. They all should be small numbers less than 0.5. "
   ]
  },
  {
   "cell_type": "code",
   "execution_count": 24,
   "metadata": {},
   "outputs": [
    {
     "name": "stdout",
     "output_type": "stream",
     "text": [
      "LS MSE 0.1680755554214467\n",
      "LS RMSE 0.4099701884545347\n",
      "LS MAE 0.1924327616771655\n"
     ]
    }
   ],
   "source": [
    "mse_ls = mse(y_test, y_pred_ls)\n",
    "rmse_ls = rmse(y_test, y_pred_ls)\n",
    "mae_ls = mae(y_test, y_pred_ls)\n",
    "print('LS MSE', mse_ls)\n",
    "print('LS RMSE', rmse_ls)\n",
    "print('LS MAE', mae_ls)"
   ]
  },
  {
   "cell_type": "code",
   "execution_count": 25,
   "metadata": {},
   "outputs": [
    {
     "name": "stdout",
     "output_type": "stream",
     "text": [
      "LS MSE 0.1680755554214466984674914\n",
      "LS RMSE 0.4099701884545347008170779\n",
      "LS MAE 0.1924327616771654980709627\n"
     ]
    }
   ],
   "source": [
    "print('LS MSE', \"{:.25f}\".format(mse_ls))\n",
    "print('LS RMSE', \"{:.25f}\".format(rmse_ls))\n",
    "print('LS MAE',\"{:.25f}\".format(mae_ls))"
   ]
  },
  {
   "cell_type": "markdown",
   "metadata": {},
   "source": [
    "> Next, you should check your implemented methods `mae` and `mse` by comparing your scores with [scikit-learn methods](https://scikit-learn.org/stable/modules/model_evaluation.html#mean-absolute-error). They should match precisely."
   ]
  },
  {
   "cell_type": "code",
   "execution_count": 26,
   "metadata": {},
   "outputs": [
    {
     "name": "stdout",
     "output_type": "stream",
     "text": [
      "MAE 0.1924327616771654980709627\n",
      "MSE 0.1680755554214466984674914\n"
     ]
    }
   ],
   "source": [
    "# Compute mae and mse of LS model by sklearn methods\n",
    "sklearn_mae_ls = mean_absolute_error(y_test, y_pred_ls)\n",
    "sklearn_mse_ls = mean_squared_error(y_test, y_pred_ls)\n",
    "print('MAE',\"{:.25f}\".format(sklearn_mae_ls))\n",
    "print('MSE',\"{:.25f}\".format(sklearn_mse_ls))"
   ]
  },
  {
   "cell_type": "code",
   "execution_count": 27,
   "metadata": {},
   "outputs": [
    {
     "name": "stdout",
     "output_type": "stream",
     "text": [
      "MAE is correct!\n",
      "MSE is correct!\n"
     ]
    }
   ],
   "source": [
    "if sklearn_mae_ls == mae_ls:\n",
    "    print('MAE is correct!')\n",
    "else:\n",
    "    print('MAE is wrong!')\n",
    "    \n",
    "if sklearn_mse_ls == mse_ls:\n",
    "    print('MSE is correct!')\n",
    "else:\n",
    "    print('MSE is wrong!')  "
   ]
  },
  {
   "cell_type": "markdown",
   "metadata": {},
   "source": [
    "> The plot shows that `Actual` target values and `Prediction` values match very highly."
   ]
  },
  {
   "cell_type": "code",
   "execution_count": 28,
   "metadata": {},
   "outputs": [
    {
     "data": {
      "text/plain": [
       "<matplotlib.legend.Legend at 0x2aa21705940>"
      ]
     },
     "execution_count": 28,
     "metadata": {},
     "output_type": "execute_result"
    },
    {
     "data": {
      "image/png": "[encoded data removed]",
      "text/plain": [
       "<Figure size 1152x576 with 1 Axes>"
      ]
     },
     "metadata": {},
     "output_type": "display_data"
    }
   ],
   "source": [
    "# Generate the following plot.\n",
    "plt.rcParams[\"figure.figsize\"]=(16,8)\n",
    "plt.plot(y_test, 'o', label='Actual', color='blue')\n",
    "plt.plot(y_pred_ls, 'o', label='Prediction', color='red', markersize='3')\n",
    "plt.xlabel('Index', fontsize = 16)\n",
    "plt.ylabel('Close Price US($)', fontsize = 16)\n",
    "plt.legend(frameon=False)"
   ]
  },
  {
   "cell_type": "markdown",
   "metadata": {},
   "source": [
    "### Part-II Questions"
   ]
  },
  {
   "cell_type": "markdown",
   "metadata": {},
   "source": [
    "- Q1 [5 points] Why `theta_best.shape` shape is (6,)? You should explain completely.\n",
    "\n",
    "- Answer of Q1: The best values from each of the 6 columns are used, hence why its shape is (6,). However, theta is only gonna be computed for each column, not every cell. \n",
    "\n",
    "\n",
    "- Q2 [5 point] Do some research and find out when/why mae may be favored against mse and vice-versa. In other words, in what situations mae is a better indication of model performance and in what situations mse? Explain your findings completely.\n",
    "\n",
    "- Answer of Q2: \n",
    "- MAE: Few to no outliers in data or when ignoring the data while fitting the model. Fit data based on median.\n",
    "- MSE: When there are a large number of outliers in the data and want to accommodate for it during the fitting of the model. Fit data based on average\n"
   ]
  },
  {
   "cell_type": "markdown",
   "metadata": {},
   "source": [
    "## Part-III  Linear Regression, SVM and XGBoost"
   ]
  },
  {
   "cell_type": "markdown",
   "metadata": {},
   "source": [
    "In Part-III, you are going to use [Linear Regression](https://scikit-learn.org/stable/modules/generated/sklearn.linear_model.LinearRegression.html), [SVM](https://scikit-learn.org/stable/modules/generated/sklearn.svm.SVR.html) and [XGBoost](https://xgboost.readthedocs.io/en/latest/python/python_api.html#module-xgboost.sklearn) to build regression models."
   ]
  },
  {
   "cell_type": "code",
   "execution_count": 29,
   "metadata": {},
   "outputs": [
    {
     "data": {
      "text/plain": [
       "LinearRegression()"
      ]
     },
     "execution_count": 29,
     "metadata": {},
     "output_type": "execute_result"
    }
   ],
   "source": [
    "# Build a LinearRegression model and train it on (X_train, y_train)\n",
    "lin_reg = LinearRegression()\n",
    "lin_reg.fit(X_train, y_train)"
   ]
  },
  {
   "cell_type": "code",
   "execution_count": 30,
   "metadata": {},
   "outputs": [],
   "source": [
    "# Test lin_reg on X_test\n",
    "y_pred_lin_reg = lin_reg.predict(X_test)"
   ]
  },
  {
   "cell_type": "code",
   "execution_count": 31,
   "metadata": {},
   "outputs": [
    {
     "name": "stdout",
     "output_type": "stream",
     "text": [
      "Linear Regression RMSE 0.4099373524332785\n"
     ]
    }
   ],
   "source": [
    "# Compute rmse for lin_reg using your own rmse function\n",
    "rmse_lin_reg = rmse(y_test, y_pred_lin_reg)\n",
    "print('Linear Regression RMSE', rmse_lin_reg)"
   ]
  },
  {
   "cell_type": "code",
   "execution_count": 32,
   "metadata": {},
   "outputs": [
    {
     "data": {
      "text/plain": [
       "Text(0, 0.5, 'Actual')"
      ]
     },
     "execution_count": 32,
     "metadata": {},
     "output_type": "execute_result"
    },
    {
     "data": {
      "image/png": "[encoded data removed]",
      "text/plain": [
       "<Figure size 1152x576 with 1 Axes>"
      ]
     },
     "metadata": {},
     "output_type": "display_data"
    }
   ],
   "source": [
    "# Plot Q3\n",
    "plt.scatter(y_test, y_pred_lin_reg, color = 'b') \n",
    "plt.xlabel('Prediction')\n",
    "plt.ylabel('Actual')"
   ]
  },
  {
   "cell_type": "markdown",
   "metadata": {},
   "source": [
    "> Next build a SVM regression model. Remember that SVM can be used for both classification and regression."
   ]
  },
  {
   "cell_type": "code",
   "execution_count": 33,
   "metadata": {},
   "outputs": [
    {
     "data": {
      "text/plain": [
       "SVR(kernel='linear')"
      ]
     },
     "execution_count": 33,
     "metadata": {},
     "output_type": "execute_result"
    }
   ],
   "source": [
    "# Build a SVR (SVM Regression) model and train it on (X_train, y_train), kernel should be 'linear'\n",
    "svm_reg = svm.SVR(kernel = 'linear')\n",
    "svm_reg.fit(X_train, y_train)"
   ]
  },
  {
   "cell_type": "code",
   "execution_count": 34,
   "metadata": {},
   "outputs": [],
   "source": [
    "# Test svm_reg\n",
    "y_pred_svm = svm_reg.predict(X_test)"
   ]
  },
  {
   "cell_type": "code",
   "execution_count": 35,
   "metadata": {},
   "outputs": [
    {
     "name": "stdout",
     "output_type": "stream",
     "text": [
      "SVM RMSE 0.6171019731630152\n"
     ]
    }
   ],
   "source": [
    "# Compute rmse for svm_reg\n",
    "rmse_svm = rmse(y_test, y_pred_svm)\n",
    "print('SVM RMSE', rmse_svm)"
   ]
  },
  {
   "cell_type": "markdown",
   "metadata": {},
   "source": [
    "> Next, you should create an [XGBoost Regression](https://xgboost.readthedocs.io/en/latest/python/python_api.html#module-xgboost.sklearn) model. You can simply `import xgboost` and build a `XGBRegressor()` model."
   ]
  },
  {
   "cell_type": "code",
   "execution_count": 36,
   "metadata": {},
   "outputs": [
    {
     "data": {
      "text/plain": [
       "XGBRegressor(base_score=0.5, booster='gbtree', colsample_bylevel=1,\n",
       "             colsample_bynode=1, colsample_bytree=1, gamma=0, gpu_id=-1,\n",
       "             importance_type='gain', interaction_constraints='',\n",
       "             learning_rate=0.300000012, max_delta_step=0, max_depth=6,\n",
       "             min_child_weight=1, missing=nan, monotone_constraints='()',\n",
       "             n_estimators=100, n_jobs=8, num_parallel_tree=1, random_state=0,\n",
       "             reg_alpha=0, reg_lambda=1, scale_pos_weight=1, subsample=1,\n",
       "             tree_method='exact', validate_parameters=1, verbosity=None)"
      ]
     },
     "execution_count": 36,
     "metadata": {},
     "output_type": "execute_result"
    }
   ],
   "source": [
    "# Build a xgb regression model and train it on (X_train, y_train)\n",
    "xgb_reg = xgb.XGBRegressor(objective ='reg:squarederror')\n",
    "xgb_reg.fit(X_train, y_train)"
   ]
  },
  {
   "cell_type": "code",
   "execution_count": 37,
   "metadata": {},
   "outputs": [],
   "source": [
    "# Test xgb_reg\n",
    "y_pred_xgb = xgb_reg.predict(X_test)"
   ]
  },
  {
   "cell_type": "code",
   "execution_count": 38,
   "metadata": {},
   "outputs": [
    {
     "name": "stdout",
     "output_type": "stream",
     "text": [
      "XGB RMSE 0.5955133539307399\n"
     ]
    }
   ],
   "source": [
    "# Compute rmse for xgb_reg\n",
    "rmse_xgb = rmse(y_test, y_pred_xgb)\n",
    "print('XGB RMSE', rmse_xgb)"
   ]
  },
  {
   "cell_type": "markdown",
   "metadata": {},
   "source": [
    "fine-tune hyperparameters of XGBoost! \n",
    "\n",
    "> If a model has a lot of hyperparameters, it is not an easy task to fine-tune them, and as you experienced, `GridSearchCV` takes a lot of time, so this time you're going to use a different search strategy [`RandomizedSearchCV`](https://scikit-learn.org/stable/modules/generated/sklearn.model_selection.RandomizedSearchCV.html) which is much faster and more efficient than `GridSearchCV` (which is more suitable when you have fewer number of combinations)."
   ]
  },
  {
   "cell_type": "code",
   "execution_count": 44,
   "metadata": {},
   "outputs": [
    {
     "name": "stdout",
     "output_type": "stream",
     "text": [
      "Randomized search for hyperparameter tuning of XGBoost Regressor\n",
      "Best Parameters: {'n_estimators': 200, 'booster': 'gblinear'}\n"
     ]
    }
   ],
   "source": [
    "xgb_reg = xgb.XGBRegressor(objective='reg:squaredlogerror',\n",
    "                          booster='gblinear')\n",
    "\n",
    "param_distribs = { \"n_estimators\":[200],\n",
    "                  'booster': ['gblinear'],\n",
    "                 }\n",
    "randomized_search = RandomizedSearchCV(xgb_reg, param_distribs, n_iter=10, cv=10)\n",
    "best_xgb_reg = randomized_search.fit(X_train, y_train)\n",
    "print('Randomized search for hyperparameter tuning of XGBoost Regressor')\n",
    "print('Best Parameters: ' + str(best_xgb_reg.best_params_))"
   ]
  },
  {
   "cell_type": "code",
   "execution_count": 46,
   "metadata": {},
   "outputs": [
    {
     "name": "stdout",
     "output_type": "stream",
     "text": [
      "Best XGB RMSE 0.48238127739371417\n"
     ]
    }
   ],
   "source": [
    "# Train and test best_xgb, and compute rmse with your own rmse function\n",
    "best_xgb = best_xgb_reg.best_estimator_\n",
    "best_xgb.fit(X_train, y_train)\n",
    "y_pred_best_xgb = best_xgb.predict(X_test)\n",
    "rmse_best_xgb = rmse(y_test, y_pred_best_xgb)\n",
    "print('Best XGB RMSE', rmse_best_xgb)"
   ]
  },
  {
   "cell_type": "markdown",
   "metadata": {},
   "source": [
    "> Last step is calculating another regression performance measure $R^2$ [Coefficient of Determination](https://en.wikipedia.org/wiki/Coefficient_of_determination). You can use sklearn [`r2_score`](https://scikit-learn.org/stable/modules/generated/sklearn.metrics.r2_score.html) method. All $R^2$ scores of your regression models should be close to 1. "
   ]
  },
  {
   "cell_type": "code",
   "execution_count": 41,
   "metadata": {},
   "outputs": [
    {
     "name": "stdout",
     "output_type": "stream",
     "text": [
      "Least Squares R2:  0.9997543047717475\n",
      "Linear Regression R2:  0.9997543047717475\n",
      "SVM R2:  0.9994432302797848\n",
      "XGBoost R2:  0.999628898781633\n"
     ]
    }
   ],
   "source": [
    "r2_ls = r2_score(y_test, y_pred_ls)\n",
    "r2_lin_reg = r2_score(y_test, y_pred_lin_reg)\n",
    "r2_svm = r2_score(y_test, y_pred_svm)\n",
    "r2_xgb = r2_score(y_test, y_pred_best_xgb)\n",
    "print('Least Squares R2: ', r2_lin_reg)\n",
    "print('Linear Regression R2: ', r2_lin_reg)\n",
    "print('SVM R2: ', r2_svm)\n",
    "print('XGBoost R2: ', r2_xgb)"
   ]
  },
  {
   "cell_type": "markdown",
   "metadata": {},
   "source": [
    "### Part-III Question"
   ]
  },
  {
   "cell_type": "markdown",
   "metadata": {},
   "source": [
    "- Q3 [5 points] What does `Plot Q3` the Actual-Predicted plot of `lin_reg` model imply? Explain completely. You should justify your answer mathematically, otherwise your answer gets zero.\n",
    "- Answer of Q3: This model implies a high R2 score which it has since all the points would be close to this diagonal line which follows y=mx+b where m is close to 1. This function follows the linear regression form of y^ = b0 + b1. y^ is predicted value of y for a given value of x. b0 is the y intercept, and b1 is the slope. This means that the residual (r = y_test - y_pred_ls) which is difference between the actual value of y and the predicted value is also small meaning that the data is modeled accurately."
   ]
  }
 ],
 "metadata": {
  "kernelspec": {
   "display_name": "Python 3",
   "language": "python",
   "name": "python3"
  },
  "language_info": {
   "codemirror_mode": {
    "name": "ipython",
    "version": 3
   },
   "file_extension": ".py",
   "mimetype": "text/x-python",
   "name": "python",
   "nbconvert_exporter": "python",
   "pygments_lexer": "ipython3",
   "version": "3.8.3"
  }
 },
 "nbformat": 4,
 "nbformat_minor": 2
}
